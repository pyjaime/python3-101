{
 "cells": [
  {
   "cell_type": "markdown",
   "metadata": {
    "toc": true
   },
   "source": [
    "<h1>Mis notas: NumPy<span class=\"tocSkip\"></span></h1>\n",
    "<div class=\"toc\"><ul class=\"toc-item\"><li><span><a href=\"#Intro\" data-toc-modified-id=\"Intro-0\"><span class=\"toc-item-num\">0&nbsp;&nbsp;</span>Intro</a></span></li><li><span><a href=\"#Arrays\" data-toc-modified-id=\"Arrays-1\"><span class=\"toc-item-num\">1&nbsp;&nbsp;</span>Arrays</a></span><ul class=\"toc-item\"><li><span><a href=\"#Creación\" data-toc-modified-id=\"Creación-1.1\"><span class=\"toc-item-num\">1.1&nbsp;&nbsp;</span>Creación</a></span></li><li><span><a href=\"#Representación\" data-toc-modified-id=\"Representación-1.2\"><span class=\"toc-item-num\">1.2&nbsp;&nbsp;</span>Representación</a></span></li><li><span><a href=\"#Atributos\" data-toc-modified-id=\"Atributos-1.3\"><span class=\"toc-item-num\">1.3&nbsp;&nbsp;</span>Atributos</a></span></li><li><span><a href=\"#Indexado\" data-toc-modified-id=\"Indexado-1.4\"><span class=\"toc-item-num\">1.4&nbsp;&nbsp;</span>Indexado</a></span></li><li><span><a href=\"#Slicing\" data-toc-modified-id=\"Slicing-1.5\"><span class=\"toc-item-num\">1.5&nbsp;&nbsp;</span>Slicing</a></span></li><li><span><a href=\"#Sub-arrays\" data-toc-modified-id=\"Sub-arrays-1.6\"><span class=\"toc-item-num\">1.6&nbsp;&nbsp;</span>Sub-arrays</a></span></li><li><span><a href=\"#Copia\" data-toc-modified-id=\"Copia-1.7\"><span class=\"toc-item-num\">1.7&nbsp;&nbsp;</span>Copia</a></span></li><li><span><a href=\"#Reformateo\" data-toc-modified-id=\"Reformateo-1.8\"><span class=\"toc-item-num\">1.8&nbsp;&nbsp;</span>Reformateo</a></span></li><li><span><a href=\"#Concatenación\" data-toc-modified-id=\"Concatenación-1.9\"><span class=\"toc-item-num\">1.9&nbsp;&nbsp;</span>Concatenación</a></span></li><li><span><a href=\"#División\" data-toc-modified-id=\"División-1.10\"><span class=\"toc-item-num\">1.10&nbsp;&nbsp;</span>División</a></span></li><li><span><a href=\"#Arrays-de-fechas\" data-toc-modified-id=\"Arrays-de-fechas-1.11\"><span class=\"toc-item-num\">1.11&nbsp;&nbsp;</span>Arrays de fechas</a></span></li></ul></li><li><span><a href=\"#Funciones-universales-de-NumPy\" data-toc-modified-id=\"Funciones-universales-de-NumPy-2\"><span class=\"toc-item-num\">2&nbsp;&nbsp;</span>Funciones universales de NumPy</a></span><ul class=\"toc-item\"><li><span><a href=\"#Funciones-aritméticas\" data-toc-modified-id=\"Funciones-aritméticas-2.1\"><span class=\"toc-item-num\">2.1&nbsp;&nbsp;</span>Funciones aritméticas</a></span></li><li><span><a href=\"#Funciones-comparativas\" data-toc-modified-id=\"Funciones-comparativas-2.2\"><span class=\"toc-item-num\">2.2&nbsp;&nbsp;</span>Funciones comparativas</a></span></li><li><span><a href=\"#Funciones-lógicas\" data-toc-modified-id=\"Funciones-lógicas-2.3\"><span class=\"toc-item-num\">2.3&nbsp;&nbsp;</span>Funciones lógicas</a></span></li><li><span><a href=\"#Funciones-para-arrays-booleanos\" data-toc-modified-id=\"Funciones-para-arrays-booleanos-2.4\"><span class=\"toc-item-num\">2.4&nbsp;&nbsp;</span>Funciones para arrays booleanos</a></span></li><li><span><a href=\"#Valor-absoluto\" data-toc-modified-id=\"Valor-absoluto-2.5\"><span class=\"toc-item-num\">2.5&nbsp;&nbsp;</span>Valor absoluto</a></span></li><li><span><a href=\"#Funciones-trigonométricas\" data-toc-modified-id=\"Funciones-trigonométricas-2.6\"><span class=\"toc-item-num\">2.6&nbsp;&nbsp;</span>Funciones trigonométricas</a></span></li><li><span><a href=\"#Funciones-exponenciales-y-logarítmicas\" data-toc-modified-id=\"Funciones-exponenciales-y-logarítmicas-2.7\"><span class=\"toc-item-num\">2.7&nbsp;&nbsp;</span>Funciones exponenciales y logarítmicas</a></span></li><li><span><a href=\"#Otras-funciones\" data-toc-modified-id=\"Otras-funciones-2.8\"><span class=\"toc-item-num\">2.8&nbsp;&nbsp;</span>Otras funciones</a></span></li><li><span><a href=\"#Funciones-especializadas\" data-toc-modified-id=\"Funciones-especializadas-2.9\"><span class=\"toc-item-num\">2.9&nbsp;&nbsp;</span>Funciones especializadas</a></span></li><li><span><a href=\"#Agregados\" data-toc-modified-id=\"Agregados-2.10\"><span class=\"toc-item-num\">2.10&nbsp;&nbsp;</span>Agregados</a></span></li><li><span><a href=\"#Producto-tensorial\" data-toc-modified-id=\"Producto-tensorial-2.11\"><span class=\"toc-item-num\">2.11&nbsp;&nbsp;</span>Producto tensorial</a></span></li></ul></li><li><span><a href=\"#Agregaciones\" data-toc-modified-id=\"Agregaciones-3\"><span class=\"toc-item-num\">3&nbsp;&nbsp;</span>Agregaciones</a></span></li><li><span><a href=\"#Broadcasting\" data-toc-modified-id=\"Broadcasting-4\"><span class=\"toc-item-num\">4&nbsp;&nbsp;</span>Broadcasting</a></span></li><li><span><a href=\"#Indexado-múltiple\" data-toc-modified-id=\"Indexado-múltiple-5\"><span class=\"toc-item-num\">5&nbsp;&nbsp;</span>Indexado múltiple</a></span></li><li><span><a href=\"#Ordenación-de-arrays\" data-toc-modified-id=\"Ordenación-de-arrays-6\"><span class=\"toc-item-num\">6&nbsp;&nbsp;</span>Ordenación de arrays</a></span><ul class=\"toc-item\"><li><span><a href=\"#Ejemplo:-KNN-(K-Nearest-Neighbours)\" data-toc-modified-id=\"Ejemplo:-KNN-(K-Nearest-Neighbours)-6.1\"><span class=\"toc-item-num\">6.1&nbsp;&nbsp;</span>Ejemplo: KNN (K-Nearest Neighbours)</a></span></li></ul></li><li><span><a href=\"#Arrays-estructurados\" data-toc-modified-id=\"Arrays-estructurados-7\"><span class=\"toc-item-num\">7&nbsp;&nbsp;</span>Arrays estructurados</a></span></li></ul></div>"
   ]
  },
  {
   "cell_type": "markdown",
   "metadata": {},
   "source": [
    "> **Disclaimer**: Este notebook contiene mis notas sobre NumPy, cogiendo lo más útil del [capítulo 2](https://jakevdp.github.io/PythonDataScienceHandbook/02.00-introduction-to-numpy.html) de [Python Data Science Handbook](https://jakevdp.github.io/PythonDataScienceHandbook/index.html) escrito por [Jake VanderPlas](http://vanderplas.com/), y de la [guía rápida](https://docs.scipy.org/doc/numpy/user/quickstart.html) de NumPy. Recomiendo leer la fuente original e ir ejecutando todos los ejemplos (___learn by doing!___)."
   ]
  },
  {
   "cell_type": "markdown",
   "metadata": {},
   "source": [
    "## Intro"
   ]
  },
  {
   "cell_type": "markdown",
   "metadata": {},
   "source": [
    "[NumPy](http://www.numpy.org/) (Numerical Python) es una librería fundamental para cálculo científico en Python, preparada para tratar grandes cantidades de datos. Los arrays de NumPy proporcionan almacenamiento y operaciones mucho más eficientes que los arrays estándar de Python, lo que requerimos cuando los datos empiezan a crecer. Esto convierte a NumPy en parte indispensable dentro del ecosistema de Data Science con Python.\n",
    "\n",
    "Para poder usar NumPy, simplemente tendremos que importar la librería :)"
   ]
  },
  {
   "cell_type": "code",
   "execution_count": 1,
   "metadata": {},
   "outputs": [],
   "source": [
    "# NumPy suele importarse con el alias np\n",
    "import numpy as np\n",
    "np?"
   ]
  },
  {
   "cell_type": "markdown",
   "metadata": {},
   "source": [
    "Igual que un tipo básico en Python es más que un simple valor debido al tipado dinámico (en realidad se trata de una estructura de C), una lista es más que una simple colección de objetos uniformes, pudiendo albergar todo tipo de objetos simultáneamente. \n",
    "\n",
    "Esta flexibilidad tiene un precio, ya que cada objeto en una lista debe incluir información del tipo (entre otras cosas). En el caso de que todos los elementos fueran de un mismo tipo podríamos eliminar la redundancia para ganar en eficiencia de almacenado; y esto es precisamente lo que aporta el objeto `array` disponible en Python desde la versión 3.3.\n",
    "\n",
    "El objeto `ndarray` de NumPy (o array de NumPy a secas) aparte de las ventajas del array de Python aporta también una serie de operaciones eficientes sobre sus datos."
   ]
  },
  {
   "cell_type": "markdown",
   "metadata": {},
   "source": [
    "## Arrays"
   ]
  },
  {
   "cell_type": "markdown",
   "metadata": {},
   "source": [
    "Todos los elementos de un objeto ndarray son del mismo tipo.\n",
    "\n",
    "> Lista de tipos básicos para arrays de NumPy: [Doc:  Data types](https://docs.scipy.org/doc/numpy/user/basics.types.html)\n",
    "\n",
    "### Creación\n",
    "\n",
    "Podemos crear arrays en NumPy **a partir de listas o tuplas** de Python, usando el método `array()`\n",
    "\n",
    "Si se construyen con elementos de distintos tipos, NumPy intentará el ***upcasting*** automático. Si eso no es posible, obtendremos un error."
   ]
  },
  {
   "cell_type": "code",
   "execution_count": 2,
   "metadata": {},
   "outputs": [
    {
     "data": {
      "text/plain": [
       "array([1, 2, 3])"
      ]
     },
     "execution_count": 2,
     "metadata": {},
     "output_type": "execute_result"
    }
   ],
   "source": [
    "# Ejemplo de creación a partir de una lista\n",
    "np.array([1, 2, 3])"
   ]
  },
  {
   "cell_type": "code",
   "execution_count": 3,
   "metadata": {},
   "outputs": [
    {
     "data": {
      "text/plain": [
       "array([1., 2., 3.])"
      ]
     },
     "execution_count": 3,
     "metadata": {},
     "output_type": "execute_result"
    }
   ],
   "source": [
    "# Ejemplo de creación a partir de una tupla, especificando el tipo deseado\n",
    "np.array((1, 2, 3), dtype=float)"
   ]
  },
  {
   "cell_type": "code",
   "execution_count": 4,
   "metadata": {},
   "outputs": [
    {
     "data": {
      "text/plain": [
       "array([1. , 2.5, 3. ])"
      ]
     },
     "execution_count": 4,
     "metadata": {},
     "output_type": "execute_result"
    }
   ],
   "source": [
    "# Ejemplo de creación con elementos de tipo int y float => upcasting automático a float\n",
    "np.array([1, 2.5, 3])"
   ]
  },
  {
   "cell_type": "code",
   "execution_count": 5,
   "metadata": {},
   "outputs": [
    {
     "data": {
      "text/plain": [
       "array(['1', '2.5', '3.1'], dtype='<U11')"
      ]
     },
     "execution_count": 5,
     "metadata": {},
     "output_type": "execute_result"
    }
   ],
   "source": [
    "# Ejemplo de creación con elementos de tipo numérico y texto => upcasting automático a cadenas de texto\n",
    "np.array([1, '2.5', 3.1])"
   ]
  },
  {
   "cell_type": "markdown",
   "metadata": {},
   "source": [
    "También podemos crear arrays sin partir de una lista, **usando funciones específicas** como `arange()`, que nos permite generar una secuencia:"
   ]
  },
  {
   "cell_type": "code",
   "execution_count": 6,
   "metadata": {},
   "outputs": [
    {
     "data": {
      "text/plain": [
       "array([0, 1, 2, 3, 4, 5, 6, 7, 8, 9])"
      ]
     },
     "execution_count": 6,
     "metadata": {},
     "output_type": "execute_result"
    }
   ],
   "source": [
    "# Crear un array de números secuenciales con arange(), que es como range() de Python pero devolviendo un array\n",
    "np.arange(10)"
   ]
  },
  {
   "cell_type": "code",
   "execution_count": 7,
   "metadata": {},
   "outputs": [
    {
     "data": {
      "text/plain": [
       "array([1, 3, 5, 7, 9])"
      ]
     },
     "execution_count": 7,
     "metadata": {},
     "output_type": "execute_result"
    }
   ],
   "source": [
    "# Crear un array de números dentro de un intervalo, indicando el salto\n",
    "np.arange(1, 10, 2)"
   ]
  },
  {
   "cell_type": "markdown",
   "metadata": {},
   "source": [
    "Si queremos controlar el número de elementos generados usaremos `linspace()`."
   ]
  },
  {
   "cell_type": "code",
   "execution_count": 8,
   "metadata": {},
   "outputs": [
    {
     "data": {
      "text/plain": [
       "array([0. , 1.5, 3. , 4.5, 6. , 7.5, 9. ])"
      ]
     },
     "execution_count": 8,
     "metadata": {},
     "output_type": "execute_result"
    }
   ],
   "source": [
    "# Crear un array con linspace(), indicando el intervalo y el número de elementos equiespaciados\n",
    "np.linspace(0, 9, 7) "
   ]
  },
  {
   "cell_type": "markdown",
   "metadata": {},
   "source": [
    "Para inicialización de arrays tenemos `empty()`, `zeros()` o `ones()`:"
   ]
  },
  {
   "cell_type": "code",
   "execution_count": 9,
   "metadata": {},
   "outputs": [
    {
     "data": {
      "text/plain": [
       "array([3.64635649e-303, 4.01091259e-303, 4.01091259e-303, 4.89124989e-322])"
      ]
     },
     "execution_count": 9,
     "metadata": {},
     "output_type": "execute_result"
    }
   ],
   "source": [
    "# Crear un array \"vacío\" (muestra lo que sea que haya en memoria). Útil para inicializarlo sin más.\n",
    "np.empty(4) "
   ]
  },
  {
   "cell_type": "code",
   "execution_count": 10,
   "metadata": {},
   "outputs": [
    {
     "data": {
      "text/plain": [
       "array([0., 0., 0., 0., 0.])"
      ]
     },
     "execution_count": 10,
     "metadata": {},
     "output_type": "execute_result"
    }
   ],
   "source": [
    "# Crear un array de ceros (float por defecto)\n",
    "np.zeros(5)"
   ]
  },
  {
   "cell_type": "code",
   "execution_count": 11,
   "metadata": {},
   "outputs": [
    {
     "data": {
      "text/plain": [
       "array([0, 0, 0, 0, 0])"
      ]
     },
     "execution_count": 11,
     "metadata": {},
     "output_type": "execute_result"
    }
   ],
   "source": [
    "# Especificando el tipo...\n",
    "np.zeros(5, dtype='int')"
   ]
  },
  {
   "cell_type": "markdown",
   "metadata": {},
   "source": [
    "Podemos crear también arrays **multidimensionales**:"
   ]
  },
  {
   "cell_type": "code",
   "execution_count": 12,
   "metadata": {},
   "outputs": [
    {
     "data": {
      "text/plain": [
       "array([[0., 0., 0.],\n",
       "       [1., 1., 1.]])"
      ]
     },
     "execution_count": 12,
     "metadata": {},
     "output_type": "execute_result"
    }
   ],
   "source": [
    "# Crear un array multidimensional a partir de otros\n",
    "np.array([np.zeros(3), np.ones(3)])"
   ]
  },
  {
   "cell_type": "code",
   "execution_count": 13,
   "metadata": {},
   "outputs": [
    {
     "data": {
      "text/plain": [
       "array([[1, 1, 1],\n",
       "       [1, 1, 1],\n",
       "       [1, 1, 1]])"
      ]
     },
     "execution_count": 13,
     "metadata": {},
     "output_type": "execute_result"
    }
   ],
   "source": [
    "# Crear una matriz (array bidimensional) de 1s. Ojo cómo definimos el tipo (opción b)\n",
    "np.ones((3, 3), dtype=np.int)"
   ]
  },
  {
   "cell_type": "markdown",
   "metadata": {},
   "source": [
    "Existen otras funciones útiles para inicialización, como `full()`, `zeros_like()` o `eye()`:"
   ]
  },
  {
   "cell_type": "code",
   "execution_count": 14,
   "metadata": {},
   "outputs": [
    {
     "data": {
      "text/plain": [
       "array([[[3.14, 3.14],\n",
       "        [3.14, 3.14]],\n",
       "\n",
       "       [[3.14, 3.14],\n",
       "        [3.14, 3.14]]])"
      ]
     },
     "execution_count": 14,
     "metadata": {},
     "output_type": "execute_result"
    }
   ],
   "source": [
    "# Crear una matriz con un valor concreto. Esta vez probamos con un array de 3 dimensiones!\n",
    "full = np.full((2, 2, 2), 3.14)\n",
    "full"
   ]
  },
  {
   "cell_type": "code",
   "execution_count": 15,
   "metadata": {},
   "outputs": [
    {
     "data": {
      "text/plain": [
       "array([[[0, 0],\n",
       "        [0, 0]],\n",
       "\n",
       "       [[0, 0],\n",
       "        [0, 0]]])"
      ]
     },
     "execution_count": 15,
     "metadata": {},
     "output_type": "execute_result"
    }
   ],
   "source": [
    "# Crea un array de ceros con la misma forma que otro array\n",
    "np.zeros_like(full, dtype='int')"
   ]
  },
  {
   "cell_type": "code",
   "execution_count": 16,
   "metadata": {},
   "outputs": [
    {
     "data": {
      "text/plain": [
       "array([[1., 0., 0.],\n",
       "       [0., 1., 0.],\n",
       "       [0., 0., 1.]])"
      ]
     },
     "execution_count": 16,
     "metadata": {},
     "output_type": "execute_result"
    }
   ],
   "source": [
    "# Crear una matriz identidad (diagonal de 1s)\n",
    "np.eye(3, 3)"
   ]
  },
  {
   "cell_type": "markdown",
   "metadata": {},
   "source": [
    "Introducimos el módulo `random` para generación de **números aleatorios**, y el concepto de semilla para lograr reproducibilidad:"
   ]
  },
  {
   "cell_type": "code",
   "execution_count": 17,
   "metadata": {},
   "outputs": [
    {
     "data": {
      "text/plain": [
       "array([[0.5488135 , 0.71518937, 0.60276338],\n",
       "       [0.54488318, 0.4236548 , 0.64589411],\n",
       "       [0.43758721, 0.891773  , 0.96366276]])"
      ]
     },
     "execution_count": 17,
     "metadata": {},
     "output_type": "execute_result"
    }
   ],
   "source": [
    "# Crear una matriz de números aleatorios entre 0 y 1\n",
    "np.random.seed(0) # semilla\n",
    "np.random.random((3, 3)) # o rand()"
   ]
  },
  {
   "cell_type": "code",
   "execution_count": 18,
   "metadata": {},
   "outputs": [
    {
     "data": {
      "text/plain": [
       "array([[1, 6, 7],\n",
       "       [7, 8, 1],\n",
       "       [5, 9, 8]])"
      ]
     },
     "execution_count": 18,
     "metadata": {},
     "output_type": "execute_result"
    }
   ],
   "source": [
    "# Crear una matriz de números enteros aleatorios dentro de un intervalo\n",
    "np.random.randint(0, 10, (3, 3))"
   ]
  },
  {
   "cell_type": "markdown",
   "metadata": {},
   "source": [
    "### Representación"
   ]
  },
  {
   "cell_type": "code",
   "execution_count": 19,
   "metadata": {},
   "outputs": [
    {
     "data": {
      "text/plain": [
       "array([[[0.0871293 , 0.0202184 ],\n",
       "        [0.83261985, 0.77815675]],\n",
       "\n",
       "       [[0.87001215, 0.97861834],\n",
       "        [0.79915856, 0.46147936]]])"
      ]
     },
     "execution_count": 19,
     "metadata": {},
     "output_type": "execute_result"
    }
   ],
   "source": [
    "# Array de ejemplo\n",
    "m = np.random.random((2, 2, 2))\n",
    "m"
   ]
  },
  {
   "cell_type": "markdown",
   "metadata": {},
   "source": [
    "Así veremos un array por defecto con la función `print()`:"
   ]
  },
  {
   "cell_type": "code",
   "execution_count": 20,
   "metadata": {},
   "outputs": [
    {
     "name": "stdout",
     "output_type": "stream",
     "text": [
      "[[[0.0871293  0.0202184 ]\n",
      "  [0.83261985 0.77815675]]\n",
      "\n",
      " [[0.87001215 0.97861834]\n",
      "  [0.79915856 0.46147936]]]\n"
     ]
    }
   ],
   "source": [
    "print(m)"
   ]
  },
  {
   "cell_type": "markdown",
   "metadata": {},
   "source": [
    "NOTA: NumPy representa la última dimensión de izquierda a derecha, la penúltima de arriba a abajo, y las siguientes de arriba a abajo separadas por un espacio. Los arrays de 1D se imprimen como filas, los 2D como matrices, y los 3D como una lista de matrices."
   ]
  },
  {
   "cell_type": "markdown",
   "metadata": {},
   "source": [
    "NumPy no representa los arrays completos por defecto si estos son grandes. Para cambiar este comportamiento usaremos lo siguiente:"
   ]
  },
  {
   "cell_type": "code",
   "execution_count": 21,
   "metadata": {},
   "outputs": [],
   "source": [
    "import sys\n",
    "np.set_printoptions(threshold=sys.maxsize)"
   ]
  },
  {
   "cell_type": "markdown",
   "metadata": {},
   "source": [
    "### Atributos"
   ]
  },
  {
   "cell_type": "markdown",
   "metadata": {},
   "source": [
    "Estos son los atributos más básicos de un array:"
   ]
  },
  {
   "cell_type": "code",
   "execution_count": 22,
   "metadata": {},
   "outputs": [
    {
     "name": "stdout",
     "output_type": "stream",
     "text": [
      "m.ndim = 3\n",
      "m.shape = (2, 2, 2)\n",
      "m.size = 8\n",
      "m.dtype = float64\n",
      "m.itemsize = 8\n",
      "m.nbytes = 64\n"
     ]
    }
   ],
   "source": [
    "print('m.ndim =', m.ndim)          # dimensiones\n",
    "print('m.shape =', m.shape)        # tamaño\n",
    "print('m.size =', m.size)          # nº de elementos\n",
    "print('m.dtype =', m.dtype)        # tipo\n",
    "print('m.itemsize =', m.itemsize)  # tamaño de cada elemento en bytes\n",
    "print('m.nbytes =', m.nbytes)      # tamaño total en bytes"
   ]
  },
  {
   "cell_type": "markdown",
   "metadata": {},
   "source": [
    "### Indexado"
   ]
  },
  {
   "cell_type": "code",
   "execution_count": 23,
   "metadata": {},
   "outputs": [
    {
     "data": {
      "text/plain": [
       "array([0, 1, 2, 3, 4, 5, 6, 7, 8, 9])"
      ]
     },
     "execution_count": 23,
     "metadata": {},
     "output_type": "execute_result"
    }
   ],
   "source": [
    "# Array de ejemplo\n",
    "a = np.arange(0,10); a"
   ]
  },
  {
   "cell_type": "markdown",
   "metadata": {},
   "source": [
    "Podemos indexar un elemento concreto del array:"
   ]
  },
  {
   "cell_type": "code",
   "execution_count": 24,
   "metadata": {},
   "outputs": [
    {
     "data": {
      "text/plain": [
       "0"
      ]
     },
     "execution_count": 24,
     "metadata": {},
     "output_type": "execute_result"
    }
   ],
   "source": [
    "# Acceso a un elemento de un array unidimensional indicando su posición\n",
    "a[0]"
   ]
  },
  {
   "cell_type": "code",
   "execution_count": 25,
   "metadata": {},
   "outputs": [
    {
     "data": {
      "text/plain": [
       "9"
      ]
     },
     "execution_count": 25,
     "metadata": {},
     "output_type": "execute_result"
    }
   ],
   "source": [
    "# Acceso a un elemento indicando su posición desde el final\n",
    "a[-1]"
   ]
  },
  {
   "cell_type": "code",
   "execution_count": 26,
   "metadata": {},
   "outputs": [
    {
     "data": {
      "text/plain": [
       "0.08712929970154071"
      ]
     },
     "execution_count": 26,
     "metadata": {},
     "output_type": "execute_result"
    }
   ],
   "source": [
    "# Acceso a un elemento de un array multidimensional\n",
    "m[0, 0, 0] # equivalente a m[0][0][0]"
   ]
  },
  {
   "cell_type": "markdown",
   "metadata": {},
   "source": [
    "Igualmente podemos modificar su contenido:"
   ]
  },
  {
   "cell_type": "code",
   "execution_count": 27,
   "metadata": {},
   "outputs": [
    {
     "data": {
      "text/plain": [
       "array([ 0,  1,  2,  3,  4,  5,  6,  7,  8, 10])"
      ]
     },
     "execution_count": 27,
     "metadata": {},
     "output_type": "execute_result"
    }
   ],
   "source": [
    "# Modificación de un elemento\n",
    "a[9] = 10; a"
   ]
  },
  {
   "cell_type": "code",
   "execution_count": 28,
   "metadata": {},
   "outputs": [
    {
     "data": {
      "text/plain": [
       "array([0, 0, 2, 0, 4, 0, 6, 0, 8, 0])"
      ]
     },
     "execution_count": 28,
     "metadata": {},
     "output_type": "execute_result"
    }
   ],
   "source": [
    "# Modificación de varios elementos\n",
    "a[[1, 3, 5, 7, 9]] = 0; a"
   ]
  },
  {
   "cell_type": "markdown",
   "metadata": {},
   "source": [
    "### Slicing"
   ]
  },
  {
   "cell_type": "markdown",
   "metadata": {},
   "source": [
    "Podemos acceder a parte del array:"
   ]
  },
  {
   "cell_type": "code",
   "execution_count": 29,
   "metadata": {},
   "outputs": [
    {
     "data": {
      "text/plain": [
       "array([0, 2, 4])"
      ]
     },
     "execution_count": 29,
     "metadata": {},
     "output_type": "execute_result"
    }
   ],
   "source": [
    "a = np.arange(0,10)\n",
    "# [start:stop:step]\n",
    "a[0:6:2]"
   ]
  },
  {
   "cell_type": "code",
   "execution_count": 30,
   "metadata": {},
   "outputs": [
    {
     "data": {
      "text/plain": [
       "array([3, 2, 1])"
      ]
     },
     "execution_count": 30,
     "metadata": {},
     "output_type": "execute_result"
    }
   ],
   "source": [
    "# [start:stop:-step], desde el final\n",
    "a[3:0:-1] # 9 8 7 6 5 4 [3 2 1] 0"
   ]
  },
  {
   "cell_type": "code",
   "execution_count": 31,
   "metadata": {},
   "outputs": [
    {
     "data": {
      "text/plain": [
       "array([1, 3, 5, 7, 9])"
      ]
     },
     "execution_count": 31,
     "metadata": {},
     "output_type": "execute_result"
    }
   ],
   "source": [
    "# Uno de cada 2 elementos empezando por a[1]\n",
    "a[1::2]"
   ]
  },
  {
   "cell_type": "markdown",
   "metadata": {},
   "source": [
    "En arrays con más dimensiones tenemos disponible slicing múltiple. La última dimensión siempre son las columnas; y la penúltima las filas:"
   ]
  },
  {
   "cell_type": "code",
   "execution_count": 32,
   "metadata": {},
   "outputs": [
    {
     "data": {
      "text/plain": [
       "array([[[0.0871293 ],\n",
       "        [0.83261985]]])"
      ]
     },
     "execution_count": 32,
     "metadata": {},
     "output_type": "execute_result"
    }
   ],
   "source": [
    "m[:1, :2, :1] "
   ]
  },
  {
   "cell_type": "code",
   "execution_count": 33,
   "metadata": {},
   "outputs": [
    {
     "data": {
      "text/plain": [
       "array([[0.0871293 , 0.0202184 ],\n",
       "       [0.83261985, 0.77815675]])"
      ]
     },
     "execution_count": 33,
     "metadata": {},
     "output_type": "execute_result"
    }
   ],
   "source": [
    "m[0,...] # Equivalente a m[0,:,:]"
   ]
  },
  {
   "cell_type": "code",
   "execution_count": 34,
   "metadata": {},
   "outputs": [
    {
     "data": {
      "text/plain": [
       "array([[0, 1, 2, 3, 4, 5, 6, 7, 8, 9],\n",
       "       [0, 1, 2, 3, 4, 5, 6, 7, 8, 9]])"
      ]
     },
     "execution_count": 34,
     "metadata": {},
     "output_type": "execute_result"
    }
   ],
   "source": [
    "# Array Ejemplo\n",
    "a_2x10 = np.array([a, a])\n",
    "a_2x10"
   ]
  },
  {
   "cell_type": "code",
   "execution_count": 35,
   "metadata": {},
   "outputs": [
    {
     "data": {
      "text/plain": [
       "array([0, 0])"
      ]
     },
     "execution_count": 35,
     "metadata": {},
     "output_type": "execute_result"
    }
   ],
   "source": [
    "# Elementos de la primera columna\n",
    "a_2x10[:,0]"
   ]
  },
  {
   "cell_type": "code",
   "execution_count": 36,
   "metadata": {},
   "outputs": [
    {
     "data": {
      "text/plain": [
       "array([0, 1, 2, 3, 4, 5, 6, 7, 8, 9])"
      ]
     },
     "execution_count": 36,
     "metadata": {},
     "output_type": "execute_result"
    }
   ],
   "source": [
    "# Elementos de la primera fila\n",
    "a_2x10[0,:] # Equivalente a a_2x10[0]"
   ]
  },
  {
   "cell_type": "markdown",
   "metadata": {},
   "source": [
    "Si iteramos sobre un array multidimensional, lo estaremos haciendo sobre sus filas (lo que se conoce como axis 0):"
   ]
  },
  {
   "cell_type": "code",
   "execution_count": 37,
   "metadata": {},
   "outputs": [
    {
     "name": "stdout",
     "output_type": "stream",
     "text": [
      "[0 1 2 3 4 5 6 7 8 9]\n",
      "[0 1 2 3 4 5 6 7 8 9]\n"
     ]
    }
   ],
   "source": [
    "for row in a_2x10:\n",
    "    print(row)"
   ]
  },
  {
   "cell_type": "markdown",
   "metadata": {},
   "source": [
    "### Sub-arrays\n",
    "Si creamos un sub-array y modificamos algo del mismo, **se modificará el array original**, ya que no es una copia real. Este comportamiento por defecto nos permitirá cargar parte de un dataset para operar solamente sobre esos datos, evitando cargar el array completo cuando éste es demasiado grande."
   ]
  },
  {
   "cell_type": "code",
   "execution_count": 38,
   "metadata": {},
   "outputs": [
    {
     "data": {
      "text/plain": [
       "array([[0, 1],\n",
       "       [0, 1]])"
      ]
     },
     "execution_count": 38,
     "metadata": {},
     "output_type": "execute_result"
    }
   ],
   "source": [
    "a_2x2 = a_2x10[:2,:2]\n",
    "a_2x2"
   ]
  },
  {
   "cell_type": "code",
   "execution_count": 39,
   "metadata": {},
   "outputs": [
    {
     "data": {
      "text/plain": [
       "array([[10,  1],\n",
       "       [10,  1]])"
      ]
     },
     "execution_count": 39,
     "metadata": {},
     "output_type": "execute_result"
    }
   ],
   "source": [
    "a_2x2[:,0] = [10, 10]\n",
    "a_2x2"
   ]
  },
  {
   "cell_type": "code",
   "execution_count": 40,
   "metadata": {},
   "outputs": [
    {
     "data": {
      "text/plain": [
       "array([[10,  1,  2,  3,  4,  5,  6,  7,  8,  9],\n",
       "       [10,  1,  2,  3,  4,  5,  6,  7,  8,  9]])"
      ]
     },
     "execution_count": 40,
     "metadata": {},
     "output_type": "execute_result"
    }
   ],
   "source": [
    "a_2x10"
   ]
  },
  {
   "cell_type": "markdown",
   "metadata": {},
   "source": [
    "### Copia\n",
    "Si queremos crear una copia real (*deep copy*) de un array o parte del mismo tendremos que usar la función `copy()`"
   ]
  },
  {
   "cell_type": "code",
   "execution_count": 41,
   "metadata": {},
   "outputs": [
    {
     "data": {
      "text/plain": [
       "array([[10,  1],\n",
       "       [10,  1]])"
      ]
     },
     "execution_count": 41,
     "metadata": {},
     "output_type": "execute_result"
    }
   ],
   "source": [
    "a_2x10_copy = a_2x10[:2,:2].copy()\n",
    "a_2x10_copy"
   ]
  },
  {
   "cell_type": "markdown",
   "metadata": {},
   "source": [
    "### Reformateo\n",
    "Útil para cambiar la forma de un array, siempre que el número de elementos encaje. Contamos con la función `reshape()`:"
   ]
  },
  {
   "cell_type": "code",
   "execution_count": 42,
   "metadata": {},
   "outputs": [
    {
     "data": {
      "text/plain": [
       "array([[1, 2, 3],\n",
       "       [4, 5, 6],\n",
       "       [7, 8, 9]])"
      ]
     },
     "execution_count": 42,
     "metadata": {},
     "output_type": "execute_result"
    }
   ],
   "source": [
    "# Paso de un array unidimensional (9) a uno bidimensional (3,3)\n",
    "np.arange(1, 10).reshape((3, 3))"
   ]
  },
  {
   "cell_type": "code",
   "execution_count": 43,
   "metadata": {},
   "outputs": [
    {
     "data": {
      "text/plain": [
       "array([[1, 2, 3],\n",
       "       [4, 5, 6],\n",
       "       [7, 8, 9]])"
      ]
     },
     "execution_count": 43,
     "metadata": {},
     "output_type": "execute_result"
    }
   ],
   "source": [
    "# Reformateo automático\n",
    "np.arange(1, 10).reshape((3, -1)) # -1: lo que sea"
   ]
  },
  {
   "cell_type": "code",
   "execution_count": 44,
   "metadata": {},
   "outputs": [
    {
     "data": {
      "text/plain": [
       "array([[1, 2, 3, 4, 5, 6, 7, 8, 9]])"
      ]
     },
     "execution_count": 44,
     "metadata": {},
     "output_type": "execute_result"
    }
   ],
   "source": [
    "# Paso de un array unidimensional (9) a uno bidimensional (1,9)\n",
    "np.arange(1, 10).reshape((1, 9))"
   ]
  },
  {
   "cell_type": "markdown",
   "metadata": {},
   "source": [
    "Podemos conseguir lo mismo usando corchetes y `newaxis`, que crea un nuevo eje. La nueva dimensión tendrá tamaño 1."
   ]
  },
  {
   "cell_type": "code",
   "execution_count": 45,
   "metadata": {},
   "outputs": [
    {
     "data": {
      "text/plain": [
       "array([[0, 1, 2, 3, 4, 5, 6, 7, 8, 9]])"
      ]
     },
     "execution_count": 45,
     "metadata": {},
     "output_type": "execute_result"
    }
   ],
   "source": [
    "# Paso de 1D (10) a 2D (1, 10). El lugar del 1 será donde tengamos que poner np.newaxis\n",
    "a[np.newaxis, :]"
   ]
  },
  {
   "cell_type": "code",
   "execution_count": 46,
   "metadata": {},
   "outputs": [
    {
     "data": {
      "text/plain": [
       "array([[0],\n",
       "       [1],\n",
       "       [2],\n",
       "       [3],\n",
       "       [4],\n",
       "       [5],\n",
       "       [6],\n",
       "       [7],\n",
       "       [8],\n",
       "       [9]])"
      ]
     },
     "execution_count": 46,
     "metadata": {},
     "output_type": "execute_result"
    }
   ],
   "source": [
    "# Paso de 1D (10) a 2D (10, 1)\n",
    "a[:, np.newaxis]"
   ]
  },
  {
   "cell_type": "markdown",
   "metadata": {},
   "source": [
    "También podemos **transponer** un array de forma inmediata usando `.T`:"
   ]
  },
  {
   "cell_type": "code",
   "execution_count": 47,
   "metadata": {},
   "outputs": [
    {
     "data": {
      "text/plain": [
       "array([[10, 10],\n",
       "       [ 1,  1],\n",
       "       [ 2,  2],\n",
       "       [ 3,  3],\n",
       "       [ 4,  4],\n",
       "       [ 5,  5],\n",
       "       [ 6,  6],\n",
       "       [ 7,  7],\n",
       "       [ 8,  8],\n",
       "       [ 9,  9]])"
      ]
     },
     "execution_count": 47,
     "metadata": {},
     "output_type": "execute_result"
    }
   ],
   "source": [
    "a_2x10.T"
   ]
  },
  {
   "cell_type": "markdown",
   "metadata": {},
   "source": [
    "La función `ravel()` nos permite **aplanar** cualquier array a 1 dimensión:"
   ]
  },
  {
   "cell_type": "code",
   "execution_count": 48,
   "metadata": {},
   "outputs": [
    {
     "data": {
      "text/plain": [
       "array([10,  1,  2,  3,  4,  5,  6,  7,  8,  9, 10,  1,  2,  3,  4,  5,  6,\n",
       "        7,  8,  9])"
      ]
     },
     "execution_count": 48,
     "metadata": {},
     "output_type": "execute_result"
    }
   ],
   "source": [
    "a_2x10.ravel()"
   ]
  },
  {
   "cell_type": "markdown",
   "metadata": {},
   "source": [
    "### Concatenación"
   ]
  },
  {
   "cell_type": "markdown",
   "metadata": {},
   "source": [
    "Para la concatenación de arrays con mismas dimensiones se usa `concatenate()`:"
   ]
  },
  {
   "cell_type": "code",
   "execution_count": 49,
   "metadata": {},
   "outputs": [
    {
     "data": {
      "text/plain": [
       "array([0, 1, 2, 3, 4, 5, 6, 7, 8, 9, 0, 1, 2, 3, 4, 5, 6, 7, 8, 9, 0, 1,\n",
       "       2, 3, 4, 5, 6, 7, 8, 9])"
      ]
     },
     "execution_count": 49,
     "metadata": {},
     "output_type": "execute_result"
    }
   ],
   "source": [
    "# Concatenación de arrays unidimensionales\n",
    "np.concatenate([a, a, a])"
   ]
  },
  {
   "cell_type": "code",
   "execution_count": 50,
   "metadata": {},
   "outputs": [
    {
     "data": {
      "text/plain": [
       "array([[10,  1],\n",
       "       [10,  1],\n",
       "       [10,  1],\n",
       "       [10,  1]])"
      ]
     },
     "execution_count": 50,
     "metadata": {},
     "output_type": "execute_result"
    }
   ],
   "source": [
    "# Concatenación de arrays bidimensionales con mismo tamaño; por defecto se hace por filas (eje 0)\n",
    "np.concatenate([a_2x2, a_2x2]) # axis=0"
   ]
  },
  {
   "cell_type": "code",
   "execution_count": 51,
   "metadata": {},
   "outputs": [
    {
     "data": {
      "text/plain": [
       "array([[10,  1, 10,  1,  2],\n",
       "       [10,  1, 10,  1,  2]])"
      ]
     },
     "execution_count": 51,
     "metadata": {},
     "output_type": "execute_result"
    }
   ],
   "source": [
    "# Concatenación de arrays bidimensionales por columnas\n",
    "np.concatenate([a_2x2, a_2x10[:2,:3]], axis=1) # (2,2) + (2,3) válido en el eje 1, no en el 0"
   ]
  },
  {
   "cell_type": "markdown",
   "metadata": {},
   "source": [
    "Para concatenación de arrays con distintas dimensiones tendremos que usar `vstack()` o `hstack()` (también válidos para mismas dimensiones). La primera es equivalente a usar `row_stack()`. La segunda se puede sustituir por `column_stack()` si no tenemos más de 2D."
   ]
  },
  {
   "cell_type": "code",
   "execution_count": 52,
   "metadata": {},
   "outputs": [
    {
     "data": {
      "text/plain": [
       "array([[10,  1],\n",
       "       [10,  1],\n",
       "       [10,  1]])"
      ]
     },
     "execution_count": 52,
     "metadata": {},
     "output_type": "execute_result"
    }
   ],
   "source": [
    "# Concatenación para arrays con distintas dimensiones, en vertical (añadimos filas)\n",
    "np.vstack([a_2x2, a_2x2[0]])"
   ]
  },
  {
   "cell_type": "code",
   "execution_count": 53,
   "metadata": {},
   "outputs": [
    {
     "data": {
      "text/plain": [
       "array([[10,  1,  2,  3,  4,  5,  6,  7,  8,  9, 10,  1],\n",
       "       [10,  1,  2,  3,  4,  5,  6,  7,  8,  9, 10,  1]])"
      ]
     },
     "execution_count": 53,
     "metadata": {},
     "output_type": "execute_result"
    }
   ],
   "source": [
    "# Concatenación para arrays con mismas dimensiones, en horizontal (añadimos columnas)\n",
    "np.hstack([a_2x10, a_2x2])"
   ]
  },
  {
   "cell_type": "markdown",
   "metadata": {},
   "source": [
    "También podemos usar `stack()` para realizar la concatenación de una forma más generalizada (con más parámetros). Así mismo utilizaremos `dstack()` para concatenar en la tercera dimensión."
   ]
  },
  {
   "cell_type": "markdown",
   "metadata": {},
   "source": [
    "### División\n",
    "La operación contraria a la concatenación es la división, que llevaremos a cabo con `split()`, `hsplit()`, `vsplit()` y `dsplit()`"
   ]
  },
  {
   "cell_type": "code",
   "execution_count": 54,
   "metadata": {},
   "outputs": [
    {
     "name": "stdout",
     "output_type": "stream",
     "text": [
      "[0] [1 2] [3 4 5] [6 7 8 9]\n"
     ]
    }
   ],
   "source": [
    "a1, a2, a3, a4 = np.split(a, [1, 3, 6])\n",
    "print(a1, a2, a3, a4)"
   ]
  },
  {
   "cell_type": "code",
   "execution_count": 55,
   "metadata": {},
   "outputs": [
    {
     "data": {
      "text/plain": [
       "[array([[10,  1,  2,  3,  4,  5,  6,  7,  8,  9]]),\n",
       " array([[10,  1,  2,  3,  4,  5,  6,  7,  8,  9]])]"
      ]
     },
     "execution_count": 55,
     "metadata": {},
     "output_type": "execute_result"
    }
   ],
   "source": [
    "np.vsplit(a_2x10, 2)"
   ]
  },
  {
   "cell_type": "code",
   "execution_count": 56,
   "metadata": {},
   "outputs": [
    {
     "data": {
      "text/plain": [
       "[array([0, 1, 2, 3, 4]), array([5, 6, 7, 8, 9])]"
      ]
     },
     "execution_count": 56,
     "metadata": {},
     "output_type": "execute_result"
    }
   ],
   "source": [
    "np.hsplit(a, 2)"
   ]
  },
  {
   "cell_type": "markdown",
   "metadata": {},
   "source": [
    "### Arrays de fechas\n",
    "\n",
    "NumPy añadió el *dtype* `datetime64` para contar con series temporales de forma nativa. Es una representación de las fechas como enteros de 64 bits, permitiendo que los arrays sean muy compactos, y las operaciones sobre ellos muy eficientes."
   ]
  },
  {
   "cell_type": "code",
   "execution_count": 57,
   "metadata": {},
   "outputs": [
    {
     "data": {
      "text/plain": [
       "array('2019-02-20', dtype='datetime64[D]')"
      ]
     },
     "execution_count": 57,
     "metadata": {},
     "output_type": "execute_result"
    }
   ],
   "source": [
    "# Inicialización de un array con una fecha\n",
    "dates = np.array('2019-02-20', dtype=np.datetime64)\n",
    "dates"
   ]
  },
  {
   "cell_type": "markdown",
   "metadata": {},
   "source": [
    "La **[D]** que podemos ver entre corchetes es la unidad fundamental asignada por defecto para la entrada del ejemplo; en este caso ***Días***. Existen otros códigos que podemos indicar de forma explícita, y que nos condicionarán el intervalo de fechas representable (Y, M, W, D, h, m, s, ms, us, ns, ...)."
   ]
  },
  {
   "cell_type": "code",
   "execution_count": 58,
   "metadata": {},
   "outputs": [
    {
     "data": {
      "text/plain": [
       "numpy.datetime64('2019-02-20T00:00:00.000000000')"
      ]
     },
     "execution_count": 58,
     "metadata": {},
     "output_type": "execute_result"
    }
   ],
   "source": [
    "# Resolución mayor\n",
    "np.datetime64('2019-02-20', 'ns')"
   ]
  },
  {
   "cell_type": "markdown",
   "metadata": {},
   "source": [
    "Podemos crear una **serie temporal** fácilmente a partir del array previamente inicializado con una fecha:"
   ]
  },
  {
   "cell_type": "code",
   "execution_count": 59,
   "metadata": {},
   "outputs": [
    {
     "data": {
      "text/plain": [
       "array(['2019-02-20', '2019-02-21', '2019-02-22', '2019-02-23',\n",
       "       '2019-02-24', '2019-02-25', '2019-02-26', '2019-02-27',\n",
       "       '2019-02-28', '2019-03-01', '2019-03-02', '2019-03-03',\n",
       "       '2019-03-04', '2019-03-05', '2019-03-06'], dtype='datetime64[D]')"
      ]
     },
     "execution_count": 59,
     "metadata": {},
     "output_type": "execute_result"
    }
   ],
   "source": [
    "dates + np.arange(15)"
   ]
  },
  {
   "cell_type": "markdown",
   "metadata": {},
   "source": [
    "## Funciones universales de NumPy"
   ]
  },
  {
   "cell_type": "markdown",
   "metadata": {},
   "source": [
    "La clave para que las operaciones sobre arrays de NumPy sean eficientes es usar **operaciones vectorizadas**; aquellas que ejecutadas sobre un vector son aplicadas sobre cada elemento. Este tipo de operaciones están implementadas en NumPy a través de sus funciones universales (**ufuncs**).\n",
    "\n",
    "Distinguimos 2 tipos de ufuncs: ***unarias*** (una entrada) y ***binarias*** (dos).\n",
    "\n",
    "Cada vez que veamos un bucle que actúa sobre los elementos de una colección deberíamos considerar la opción de sustituirlo por una operación vectorizada."
   ]
  },
  {
   "cell_type": "code",
   "execution_count": 60,
   "metadata": {
    "scrolled": true
   },
   "outputs": [
    {
     "data": {
      "text/plain": [
       "array([0. , 0.1, 0.2, 0.3, 0.4, 0.5, 0.6, 0.7, 0.8, 0.9])"
      ]
     },
     "execution_count": 60,
     "metadata": {},
     "output_type": "execute_result"
    }
   ],
   "source": [
    "# Ejemplo con array y escalar, usando el operador universal de división\n",
    "b = a / 10\n",
    "b"
   ]
  },
  {
   "cell_type": "code",
   "execution_count": 61,
   "metadata": {},
   "outputs": [
    {
     "data": {
      "text/plain": [
       "array([0. , 1.1, 2.2, 3.3, 4.4, 5.5, 6.6, 7.7, 8.8, 9.9])"
      ]
     },
     "execution_count": 61,
     "metadata": {},
     "output_type": "execute_result"
    }
   ],
   "source": [
    "# Ejemplo con 2 arrays, usando la suma\n",
    "a + b"
   ]
  },
  {
   "cell_type": "markdown",
   "metadata": {},
   "source": [
    "Podemos mejorar el rendimiento de una operación especificando el array de salida de la misma en el parámetro `out`, en lugar de hacer una asignación; de esa manera nos ahorraremos la creación de un array temporal y la copia de sus elementos al array final"
   ]
  },
  {
   "cell_type": "code",
   "execution_count": 62,
   "metadata": {},
   "outputs": [
    {
     "data": {
      "text/plain": [
       "array([ 1.,  0.,  2.,  0.,  4.,  0.,  8.,  0., 16.,  0.])"
      ]
     },
     "execution_count": 62,
     "metadata": {},
     "output_type": "execute_result"
    }
   ],
   "source": [
    "# Ejemplo\n",
    "y = np.zeros(10)\n",
    "np.power(2, a[0:5], out=y[::2]) # más eficiente que y[::2] = np.power(2, a[0:5])\n",
    "y"
   ]
  },
  {
   "cell_type": "markdown",
   "metadata": {},
   "source": [
    "> La documentación de todas las funciones disponibles se puede consultar [aquí](https://docs.scipy.org/doc/numpy/reference/routines.html#routines)"
   ]
  },
  {
   "cell_type": "markdown",
   "metadata": {},
   "source": [
    "### Funciones aritméticas\n",
    "Todas las operaciones aritméticas nativas de Python están soportadas por NumPy, y se pueden escribir de dos formas (si usamos la primera, internamente se aplicará la de NumPy al haber arrays de por medio):\n",
    "\n",
    " * `+` = `np.add()`\n",
    " * `-` = `np.subtract()`\n",
    " * `-` = `np.negative()`\n",
    " * `*` = `np.multiply()`\n",
    " * `/` = `np.divide()`\n",
    " * `//` = `np.floor_divide()`\n",
    " * `**` = `np.power()`\n",
    " * `%` = `np.mod()`\n",
    " \n",
    "Si queremos actualizar un array en lugar de crear uno nuevo, podemos imitar la sintaxis de Python para actualización de variables."
   ]
  },
  {
   "cell_type": "code",
   "execution_count": 63,
   "metadata": {},
   "outputs": [
    {
     "data": {
      "text/plain": [
       "array([ 1.,  1.,  4.,  3.,  8.,  5., 14.,  7., 24.,  9.])"
      ]
     },
     "execution_count": 63,
     "metadata": {},
     "output_type": "execute_result"
    }
   ],
   "source": [
    "#Ejemplo\n",
    "y += a\n",
    "y"
   ]
  },
  {
   "cell_type": "markdown",
   "metadata": {},
   "source": [
    "### Funciones comparativas\n",
    "\n",
    "Con NumPy disponemos también de los operadores de comparación optimizados:\n",
    "\n",
    " * `<` = `np.less()`\n",
    " * `>` = `np.greater()`\n",
    " * `<=` = `np.less_equal()`\n",
    " * `>=` = `np.greater_equal()`\n",
    " * `==` = `np.equal`\n",
    " * `!=` = `np.not_equal()`\n",
    "\n",
    "Podremos comparar todos los elementos de un array con un escalar, o los elementos de 2 arrays uno a uno. El resultado en ambos casos será un **array booleano**, para los cuáles NumPy también tiene funciones útiles."
   ]
  },
  {
   "cell_type": "code",
   "execution_count": 64,
   "metadata": {},
   "outputs": [
    {
     "data": {
      "text/plain": [
       "array([[ True, False, False, False, False, False,  True,  True,  True,\n",
       "         True],\n",
       "       [ True, False, False, False, False, False,  True,  True,  True,\n",
       "         True]])"
      ]
     },
     "execution_count": 64,
     "metadata": {},
     "output_type": "execute_result"
    }
   ],
   "source": [
    "a_2x10 > 5"
   ]
  },
  {
   "cell_type": "markdown",
   "metadata": {},
   "source": [
    "Podemos aplicar **enmascarado** para seleccionar los elementos que cumplen cierta condición. Para ello usaremos los corchetes igual que en cualquier selección con índices, y pasaremos como parámetro un array booleano resultado de comprobar una condición:"
   ]
  },
  {
   "cell_type": "code",
   "execution_count": 65,
   "metadata": {},
   "outputs": [
    {
     "data": {
      "text/plain": [
       "array([10,  6,  7,  8,  9, 10,  6,  7,  8,  9])"
      ]
     },
     "execution_count": 65,
     "metadata": {},
     "output_type": "execute_result"
    }
   ],
   "source": [
    "a_2x10[a_2x10 > 5]"
   ]
  },
  {
   "cell_type": "markdown",
   "metadata": {},
   "source": [
    "### Funciones lógicas\n",
    "\n",
    "NumPy define los siguientes operadores lógicos a nivel de elemento para los arrays booleanos\n",
    "\n",
    " * `&` = `np.bitwise_and()`\n",
    " * `|` = `np.bitwise_or()`\n",
    " * `^` = `np.bitwise_xor()`\n",
    " * `~` = `np.bitwise_not()`\n",
    " \n",
    "Si escribimos **and** y **or** estaremos usando los operadores de Python, a nivel de objeto (con arrays obtendríamos un error).\n",
    " \n",
    "### Funciones para arrays booleanos\n",
    "\n",
    " * `np.count_nonzero(x)` : cuenta los *True* del array. Equivale a `np.sum(x)` porque True = 1 y False = 0.\n",
    " * `np.count_nonzero(x, axis=n)` : cuenta los True del array resultante de agregar x en el eje n (0: filas)\n",
    " * `np.any(x [,axis=n])` : OR\n",
    " * `np.all(x [,axis=n])` : AND"
   ]
  },
  {
   "cell_type": "markdown",
   "metadata": {},
   "source": [
    "### Valor absoluto\n",
    "\n",
    " * `np.absolute(x)` = `np.abs(x)`"
   ]
  },
  {
   "cell_type": "code",
   "execution_count": 66,
   "metadata": {},
   "outputs": [
    {
     "data": {
      "text/plain": [
       "array([2, 1, 0, 1, 2])"
      ]
     },
     "execution_count": 66,
     "metadata": {},
     "output_type": "execute_result"
    }
   ],
   "source": [
    "# Ejemplo array de enteros\n",
    "np.absolute(np.arange(-2, 3))"
   ]
  },
  {
   "cell_type": "code",
   "execution_count": 67,
   "metadata": {},
   "outputs": [
    {
     "data": {
      "text/plain": [
       "array([1.41421356, 2.23606798, 1.        , 1.        ])"
      ]
     },
     "execution_count": 67,
     "metadata": {},
     "output_type": "execute_result"
    }
   ],
   "source": [
    "# Ejemplo array complejo\n",
    "np.abs(np.array([1 - 1j, -1 - 2j, 1 + 0j, 0 + 1j]))"
   ]
  },
  {
   "cell_type": "markdown",
   "metadata": {},
   "source": [
    "### Funciones trigonométricas\n",
    "\n",
    " * `np.sin(x)` : seno\n",
    " * `np.cos(x)` : coseno\n",
    " * `np.tan(x)` : tangente\n",
    " \n",
    " \n",
    " * `np.arcsin(x)` : arco seno\n",
    " * `np.arccos(x)` : arco coseno\n",
    " * `np.arctan(x)` : arco tangente"
   ]
  },
  {
   "cell_type": "markdown",
   "metadata": {},
   "source": [
    "### Funciones exponenciales y logarítmicas\n",
    "\n",
    " * `np.exp(x)` : e\\*\\*x\n",
    " * `np.expm1(x)` : e\\*\\*x - 1 # para x ~ 0\n",
    " * `np.exp2(x)` : 2\\*\\*x \n",
    " * `np.power(base, x)` : base\\*\\*x\n",
    " \n",
    " \n",
    " * `np.log(x)` : ln(x)\n",
    " * `np.log1p(x)` : ln(1 + x) # para x ~ 0\n",
    " * `np.log10(x)` : log10(x)\n",
    " * `np.log2(x)` : log2(x)"
   ]
  },
  {
   "cell_type": "markdown",
   "metadata": {},
   "source": [
    "### Otras funciones\n",
    " * `np.sqrt()`\n",
    " * `np.floor()`\n",
    " * `np.ceil()`\n",
    " * `np.isfinite()`\n",
    " * `np.isinf()`\n",
    " * `np.isnan()`\n",
    " \n",
    " \n",
    " * `np.dot()`: producto de matrices con unas reglas de broadcasting específicas\n",
    " * `np.matmul()`: producto de matrices, con la misma implementación de Python (operador `@`, disponible desde Python 3.5)\n",
    " * `np.transpose()`: matriz transpuesta (equivale a `.T`)\n",
    " * `np.linalg.inv()`: matriz inversa (existente si su determinante no es nulo)"
   ]
  },
  {
   "cell_type": "code",
   "execution_count": 68,
   "metadata": {},
   "outputs": [
    {
     "data": {
      "text/plain": [
       "array([[10,  1],\n",
       "       [10,  1]])"
      ]
     },
     "execution_count": 68,
     "metadata": {},
     "output_type": "execute_result"
    }
   ],
   "source": [
    "# Ejemplo\n",
    "a_2x2"
   ]
  },
  {
   "cell_type": "code",
   "execution_count": 69,
   "metadata": {},
   "outputs": [
    {
     "data": {
      "text/plain": [
       "array([[10, 10],\n",
       "       [ 1,  1]])"
      ]
     },
     "execution_count": 69,
     "metadata": {},
     "output_type": "execute_result"
    }
   ],
   "source": [
    "a_2x2.transpose()"
   ]
  },
  {
   "cell_type": "markdown",
   "metadata": {},
   "source": [
    "### Funciones especializadas\n",
    "NumPy tiene muchas más funciones para todo tipo de operaciones matemáticas (ver [documentación](https://docs.scipy.org/doc/numpy/reference/)). Y si queremos alguna función más específica, es muy posible que la podamos encontrar disponible en el módulo `scipy.special` (ver [documentación](http://scipy.github.io/devdocs/tutorial/special.html))."
   ]
  },
  {
   "cell_type": "code",
   "execution_count": 70,
   "metadata": {},
   "outputs": [
    {
     "name": "stdout",
     "output_type": "stream",
     "text": [
      "special.gamma(b) = [       inf 9.5135077  4.59084371 2.99156899 2.21815954 1.77245385\n",
      " 1.48919225 1.29805533 1.16422971 1.0686287 ]\n",
      "special.erf(b) = [0.         0.11246292 0.22270259 0.32862676 0.42839236 0.52049988\n",
      " 0.60385609 0.67780119 0.74210096 0.79690821]\n"
     ]
    }
   ],
   "source": [
    "from scipy import special\n",
    "\n",
    "#Ejemplos\n",
    "print('special.gamma(b) =', special.gamma(b))\n",
    "print('special.erf(b) =', special.erf(b))"
   ]
  },
  {
   "cell_type": "markdown",
   "metadata": {},
   "source": [
    "### Agregados\n",
    "Aparte de poder realizar operaciones de un array con un escalar, o de un array con otro array, podemos usar **operaciones entre los elementos de un mismo array**. Podremos aplicar cualquier ufunc binaria (con dos entradas) usando el método `reduce()` y aplicaremos la operación: a los 2 primeros elementos, al resultado con el tercero, al resultado con el cuarto, etc."
   ]
  },
  {
   "cell_type": "code",
   "execution_count": 71,
   "metadata": {},
   "outputs": [
    {
     "data": {
      "text/plain": [
       "-45"
      ]
     },
     "execution_count": 71,
     "metadata": {},
     "output_type": "execute_result"
    }
   ],
   "source": [
    "# Ejemplo con la operación resta\n",
    "np.subtract.reduce(a)"
   ]
  },
  {
   "cell_type": "markdown",
   "metadata": {},
   "source": [
    "Si en vez de obtener un resultado final lo que buscamos es obtener un array con todos los resultados parciales, usaremos `accumulate()`:"
   ]
  },
  {
   "cell_type": "code",
   "execution_count": 72,
   "metadata": {},
   "outputs": [
    {
     "data": {
      "text/plain": [
       "array([  0,  -1,  -3,  -6, -10, -15, -21, -28, -36, -45], dtype=int32)"
      ]
     },
     "execution_count": 72,
     "metadata": {},
     "output_type": "execute_result"
    }
   ],
   "source": [
    "np.subtract.accumulate(a)"
   ]
  },
  {
   "cell_type": "markdown",
   "metadata": {},
   "source": [
    "### Producto tensorial\n",
    "El resultado final es una matriz con los resultados de aplicar una operación a todas las combinaciones entre los elementos de un vector y los elementos de otro."
   ]
  },
  {
   "cell_type": "code",
   "execution_count": 73,
   "metadata": {},
   "outputs": [
    {
     "data": {
      "text/plain": [
       "array([[ 0,  0,  0,  0,  0,  0,  0,  0,  0,  0],\n",
       "       [ 0,  1,  2,  3,  4,  5,  6,  7,  8,  9],\n",
       "       [ 0,  2,  4,  6,  8, 10, 12, 14, 16, 18],\n",
       "       [ 0,  3,  6,  9, 12, 15, 18, 21, 24, 27],\n",
       "       [ 0,  4,  8, 12, 16, 20, 24, 28, 32, 36],\n",
       "       [ 0,  5, 10, 15, 20, 25, 30, 35, 40, 45],\n",
       "       [ 0,  6, 12, 18, 24, 30, 36, 42, 48, 54],\n",
       "       [ 0,  7, 14, 21, 28, 35, 42, 49, 56, 63],\n",
       "       [ 0,  8, 16, 24, 32, 40, 48, 56, 64, 72],\n",
       "       [ 0,  9, 18, 27, 36, 45, 54, 63, 72, 81]])"
      ]
     },
     "execution_count": 73,
     "metadata": {},
     "output_type": "execute_result"
    }
   ],
   "source": [
    "np.multiply.outer(a, a)"
   ]
  },
  {
   "cell_type": "markdown",
   "metadata": {},
   "source": [
    "## Agregaciones"
   ]
  },
  {
   "cell_type": "markdown",
   "metadata": {},
   "source": [
    "NumPy cuenta con funciones agregadoras optimizadas para el estudio estadístico de los datasets. Son funciones del propio tipo array pero también se pueden invocar pasando el array como parámetro:\n",
    "\n",
    " * Suma: `x.sum()` = np.sum(x)\n",
    " * Máximo: `x.max()` = np.max(x)\n",
    " * Mínimo: `x.min()` = np.min(x)\n",
    " * Producto: `x.prod()` = np.prod(x)\n",
    " * Media: `x.mean()` = np.mean(x)\n",
    " * Desviación: `x.std()` = np.std(x)\n",
    " * Varianza: `x.var()` = np.var(x)\n",
    " * Índice máximo: `x.argmax()` = np.argmax(x)\n",
    " * Índice mínimo: `x.argmin()` = np.argmin(x)\n",
    " * Mediana: `x.median()` = np.median(x)\n",
    " * Percentil: `x.percentile(percentage)` = np.percentile(x, percentage) _# x.percentile(50) = x.median()_\n",
    " * OR: `x.any()` = np.any(x)\n",
    " * AND: `x.all()` = np.all(x)\n",
    " \n",
    "Existe una versión segura de cada función (menos de las dos últimas), usando el prefijo `nan` (ejemplo: `nanmin`). Dichas funciones ignorarán los valores no válidos, representados por el valor **NaN**.\n",
    " \n",
    "NOTA: hay que tener cuidado de escribir `np.` delante si no estamos usando la función propia del array, o se ejecutará la función nativa de Python.\n",
    " \n",
    "Estas funciones son aplicables a arrays de cualquier dimensión, usando parámetros añadidos. El parámetro `axis` nos servirá para aplicar la función verticalmente a lo largo del eje de las filas (axis=0) u horizontalmente a lo largo del eje de las columnas (axis=1). Siendo el elegido el eje 0, lo que le estamos indicando es que la operación se aplique avanzando a lo largo del eje que forma la sucesión de filas, haciendo que la dimensión del resultado sea la de 1 fila."
   ]
  },
  {
   "cell_type": "code",
   "execution_count": 74,
   "metadata": {},
   "outputs": [
    {
     "data": {
      "text/plain": [
       "array([[10,  1],\n",
       "       [10,  1]])"
      ]
     },
     "execution_count": 74,
     "metadata": {},
     "output_type": "execute_result"
    }
   ],
   "source": [
    "# Ejemplo\n",
    "a_2x2"
   ]
  },
  {
   "cell_type": "code",
   "execution_count": 75,
   "metadata": {},
   "outputs": [
    {
     "data": {
      "text/plain": [
       "array([10.,  1.])"
      ]
     },
     "execution_count": 75,
     "metadata": {},
     "output_type": "execute_result"
    }
   ],
   "source": [
    "# Operación aplicada verticalmente en el eje de las filas\n",
    "a_2x2.mean(axis=0)"
   ]
  },
  {
   "cell_type": "code",
   "execution_count": 76,
   "metadata": {},
   "outputs": [
    {
     "data": {
      "text/plain": [
       "array([5.5, 5.5])"
      ]
     },
     "execution_count": 76,
     "metadata": {},
     "output_type": "execute_result"
    }
   ],
   "source": [
    "# Operación aplicada horizontalmente en el eje de las columnas\n",
    "a_2x2.mean(axis=1)"
   ]
  },
  {
   "cell_type": "code",
   "execution_count": 77,
   "metadata": {},
   "outputs": [
    {
     "data": {
      "text/plain": [
       "array([0, 0], dtype=int64)"
      ]
     },
     "execution_count": 77,
     "metadata": {},
     "output_type": "execute_result"
    }
   ],
   "source": [
    "a_2x2.argmax(axis=1)"
   ]
  },
  {
   "cell_type": "markdown",
   "metadata": {},
   "source": [
    "## Broadcasting"
   ]
  },
  {
   "cell_type": "markdown",
   "metadata": {},
   "source": [
    "El primer motivo que vimos para vectorizar operaciones era evitar el uso de bucles. El segundo motivo es usar la funcionalidad de broadcasting de NumPy.\n",
    "\n",
    "El broadcasting es simplemente un conjunto de reglas para aplicar ufuncs binarias sobre arrays de distintos tamaños, donde las operaciones no pueden aplicarse elemento a elemento de forma directa."
   ]
  },
  {
   "cell_type": "code",
   "execution_count": 78,
   "metadata": {},
   "outputs": [
    {
     "data": {
      "text/plain": [
       "array([[12,  2],\n",
       "       [12,  2]])"
      ]
     },
     "execution_count": 78,
     "metadata": {},
     "output_type": "execute_result"
    }
   ],
   "source": [
    "# Ejemplo: suma de un array (2,2) y otro (2)\n",
    "a_2x2 + np.array([2, 1])"
   ]
  },
  {
   "cell_type": "markdown",
   "metadata": {},
   "source": [
    "En el anterior ejemplo, podemos pensar que el array (2) ha sido \"difundido\" (broadcasted) para conformar una matriz (2,2). \n",
    "\n",
    "Las **reglas** del broadcasting en NumPy:\n",
    "\n",
    "1. Si los 2 arrays difieren en el nº de **dimensiones**, se amplían las del pequeño, añadiendo un 1 a la izquierda\n",
    "```\n",
    "a : (3, 1)\n",
    "b : (3) -> (1, 3)\n",
    "```\n",
    "2. Si en alguna dimensión los 2 arrays difieren en el nº de elementos, y el array con menos elementos tiene **exactamente 1**, se difunde hasta igualar el tamaño del otro. Si éste fuera mayor de 1 obtendríamos un error.\n",
    "```\n",
    "a : (3, 1) -> (3, 3)\n",
    "b : (1, 3) -> (3, 3)\n",
    "```"
   ]
  },
  {
   "cell_type": "code",
   "execution_count": 79,
   "metadata": {},
   "outputs": [
    {
     "name": "stdout",
     "output_type": "stream",
     "text": [
      "[0 1 2]\n",
      "\n",
      "[[0]\n",
      " [1]\n",
      " [2]]\n"
     ]
    },
    {
     "data": {
      "text/plain": [
       "array([[0, 1, 2],\n",
       "       [1, 2, 3],\n",
       "       [2, 3, 4]])"
      ]
     },
     "execution_count": 79,
     "metadata": {},
     "output_type": "execute_result"
    }
   ],
   "source": [
    "# Ejemplo\n",
    "a_3 = np.array([0, 1, 2])                   # (3)\n",
    "a_3x1 = np.array([0, 1, 2])[:, np.newaxis]  # (3, 1)\n",
    "\n",
    "print(a_3)\n",
    "print(\"\")\n",
    "print(a_3x1)\n",
    "\n",
    "a_3 + a_3x1"
   ]
  },
  {
   "cell_type": "code",
   "execution_count": 80,
   "metadata": {},
   "outputs": [
    {
     "name": "stdout",
     "output_type": "stream",
     "text": [
      "operands could not be broadcast together with shapes (2,2) (3,) \n"
     ]
    }
   ],
   "source": [
    "# Ejemplo de error\n",
    "try:\n",
    "    a_2x2 + a_3\n",
    "except ValueError as e:\n",
    "    print(e)"
   ]
  },
  {
   "cell_type": "markdown",
   "metadata": {},
   "source": [
    "## Indexado múltiple\n",
    "\n",
    "El indexado múltiple (o *fancy indexing*) no es otra cosa que indexar múltiples elementos de un array usando un array de índices en lugar de un sólo índice escalar."
   ]
  },
  {
   "cell_type": "code",
   "execution_count": 81,
   "metadata": {},
   "outputs": [
    {
     "data": {
      "text/plain": [
       "array([0, 2, 4])"
      ]
     },
     "execution_count": 81,
     "metadata": {},
     "output_type": "execute_result"
    }
   ],
   "source": [
    "# Ejemplo: array unidimensional. En este caso podemos pasar una lista en lugar de un array\n",
    "indices = [0, 2, 4]\n",
    "a[indices]"
   ]
  },
  {
   "cell_type": "code",
   "execution_count": 82,
   "metadata": {},
   "outputs": [
    {
     "data": {
      "text/plain": [
       "array([[0, 1],\n",
       "       [8, 9]])"
      ]
     },
     "execution_count": 82,
     "metadata": {},
     "output_type": "execute_result"
    }
   ],
   "source": [
    "# Ejemplo: array unidimensional. La salida tendrá el mismo formato que el array de índices\n",
    "indices = np.array([[0, 1], [8, 9]])\n",
    "a[indices]"
   ]
  },
  {
   "cell_type": "markdown",
   "metadata": {},
   "source": [
    "Para arrays bidimensionales, tendremos que especificar 2 parámetros separados por coma (filas, columnas). Podremos usar 2 arrays de índices (siendo aplicable el broadcasting), 1 array y un escalar (para seleccionar sólo una fila o una columna), 1 array y slicing (para seleccionar un rango), o 1 array y 1 array booleano (enmascarado). La salida tiene la misma forma que dicten las reglas de broadcasting sobre los arrays de índices."
   ]
  },
  {
   "cell_type": "code",
   "execution_count": 83,
   "metadata": {},
   "outputs": [
    {
     "data": {
      "text/plain": [
       "array([[ 0,  1,  2,  3],\n",
       "       [ 4,  5,  6,  7],\n",
       "       [ 8,  9, 10, 11],\n",
       "       [12, 13, 14, 15]])"
      ]
     },
     "execution_count": 83,
     "metadata": {},
     "output_type": "execute_result"
    }
   ],
   "source": [
    "# Ejemplo de datos de partida\n",
    "a_4x4 = np.arange(16).reshape(4, 4); a_4x4"
   ]
  },
  {
   "cell_type": "code",
   "execution_count": 84,
   "metadata": {},
   "outputs": [
    {
     "data": {
      "text/plain": [
       "array([ 0,  5, 10, 15])"
      ]
     },
     "execution_count": 84,
     "metadata": {},
     "output_type": "execute_result"
    }
   ],
   "source": [
    "# Ejemplo de indexado con 2 arrays de entrada\n",
    "filas = [0, 1, 2, 3]\n",
    "columnas = [0, 1, 2, 3]\n",
    "a_4x4[filas, columnas]"
   ]
  },
  {
   "cell_type": "code",
   "execution_count": 85,
   "metadata": {},
   "outputs": [
    {
     "data": {
      "text/plain": [
       "array([[ 0,  4,  8, 12],\n",
       "       [ 1,  5,  9, 13]])"
      ]
     },
     "execution_count": 85,
     "metadata": {},
     "output_type": "execute_result"
    }
   ],
   "source": [
    "# Ejemplo de indexado con broadcasting. La salida tiene la misma forma que el broadcasting de los índices.\n",
    "filas = [0, 1, 2, 3]\n",
    "columnas = np.array([0, 1])[:, np.newaxis]\n",
    "a_4x4[filas, columnas]"
   ]
  },
  {
   "cell_type": "code",
   "execution_count": 86,
   "metadata": {},
   "outputs": [
    {
     "data": {
      "text/plain": [
       "array([[ 0,  1],\n",
       "       [ 4,  5],\n",
       "       [ 8,  9],\n",
       "       [12, 13]])"
      ]
     },
     "execution_count": 86,
     "metadata": {},
     "output_type": "execute_result"
    }
   ],
   "source": [
    "# Ejemplo de indexado con masking\n",
    "filas = np.array([0, 1, 2, 3])[:, np.newaxis]\n",
    "columnas = np.array([1, 1, 0, 0], dtype=np.bool)\n",
    "a_4x4[filas, columnas]"
   ]
  },
  {
   "cell_type": "markdown",
   "metadata": {},
   "source": [
    "El indexado múltiple se puede usar tanto para obtener parte de un array, como para modificarlo por asignación."
   ]
  },
  {
   "cell_type": "code",
   "execution_count": 87,
   "metadata": {},
   "outputs": [
    {
     "data": {
      "text/plain": [
       "array([10, 11,  2,  3,  4,  5,  6,  7,  8,  9])"
      ]
     },
     "execution_count": 87,
     "metadata": {},
     "output_type": "execute_result"
    }
   ],
   "source": [
    "# Ejemplo con índices repetidos\n",
    "a_copy = np.copy(a)\n",
    "indices = [0, 1, 0, 1] # no importan los duplicados\n",
    "a_copy[indices] += 10\n",
    "a_copy"
   ]
  },
  {
   "cell_type": "markdown",
   "metadata": {},
   "source": [
    "Si lo que quisiéramos en realidad es que se aplicara la suma al elemento tantas veces como aparezca en los índices podemos lograrlo usando el método `at()` de las ufuncs:"
   ]
  },
  {
   "cell_type": "code",
   "execution_count": 88,
   "metadata": {},
   "outputs": [],
   "source": [
    "np.add.at?"
   ]
  },
  {
   "cell_type": "code",
   "execution_count": 89,
   "metadata": {},
   "outputs": [
    {
     "data": {
      "text/plain": [
       "array([30, 31,  2,  3,  4,  5,  6,  7,  8,  9])"
      ]
     },
     "execution_count": 89,
     "metadata": {},
     "output_type": "execute_result"
    }
   ],
   "source": [
    "np.add.at(a_copy, [0, 1, 0, 1], 10)\n",
    "a_copy"
   ]
  },
  {
   "cell_type": "markdown",
   "metadata": {},
   "source": [
    "## Ordenación de arrays"
   ]
  },
  {
   "cell_type": "markdown",
   "metadata": {},
   "source": [
    "NumPy ofrece funciones para ordenar los elementos de un array de forma mucho más eficiente que las funciones `sort` y `sorted` de Python para listas. Las funciones de NumPy son:\n",
    "\n",
    " * `np.sort(x [, index=i])` : devuelve una versión ordenada del array de entrada, usando un algoritmo quicksort O[N logN] por defecto. También tenemos disponibles `mergesort()` y `heapsort()`.\n",
    " * `np.argsort(x [, index=i])` : devuelve un array con los índices de los elementos ordenados\n",
    " * `np.partition(x, k [, index=i])` : devuelve los k primeros valores agrupados a la izquierda (sin orden), y el resto a la derecha (sin orden)\n",
    " * `np.argpartition(x, k [, index=i])` : devuelve un array con los índices de los elementos agrupados"
   ]
  },
  {
   "cell_type": "code",
   "execution_count": 90,
   "metadata": {},
   "outputs": [
    {
     "data": {
      "text/plain": [
       "array([0, 1, 2, 3, 4, 5, 6, 7, 9])"
      ]
     },
     "execution_count": 90,
     "metadata": {},
     "output_type": "execute_result"
    }
   ],
   "source": [
    "# Ejemplo de ordenación de elementos\n",
    "np.sort(np.array([3,7,6,9,5,1,2,4,0]))"
   ]
  },
  {
   "cell_type": "code",
   "execution_count": 91,
   "metadata": {},
   "outputs": [
    {
     "data": {
      "text/plain": [
       "array([2, 1, 0], dtype=int64)"
      ]
     },
     "execution_count": 91,
     "metadata": {},
     "output_type": "execute_result"
    }
   ],
   "source": [
    "# Ejemplo de obtención de índices de ordenación\n",
    "np.argsort(np.array([3,2,1]))"
   ]
  },
  {
   "cell_type": "code",
   "execution_count": 92,
   "metadata": {},
   "outputs": [
    {
     "name": "stdout",
     "output_type": "stream",
     "text": [
      "[[3 3 7 0]\n",
      " [1 9 9 0]\n",
      " [4 7 3 2]\n",
      " [7 2 0 0]]\n"
     ]
    },
    {
     "data": {
      "text/plain": [
       "array([[1, 2, 0, 0],\n",
       "       [3, 3, 3, 0],\n",
       "       [4, 7, 7, 0],\n",
       "       [7, 9, 9, 2]])"
      ]
     },
     "execution_count": 92,
     "metadata": {},
     "output_type": "execute_result"
    }
   ],
   "source": [
    "# Ejemplo de ordenación con 2 dimensiones\n",
    "r = np.random.randint(0, 10, (4, 4))\n",
    "print(r)\n",
    "np.sort(r, axis=0) # 0: por columna"
   ]
  },
  {
   "cell_type": "code",
   "execution_count": 93,
   "metadata": {},
   "outputs": [
    {
     "data": {
      "text/plain": [
       "array([1, 0, 2, 3, 7, 9, 6, 4, 5])"
      ]
     },
     "execution_count": 93,
     "metadata": {},
     "output_type": "execute_result"
    }
   ],
   "source": [
    "# Ejemplo de agrupación\n",
    "np.partition(np.array([3,7,6,9,5,1,2,4,0]), 3)"
   ]
  },
  {
   "cell_type": "markdown",
   "metadata": {},
   "source": [
    "### Ejemplo: KNN (K-Nearest Neighbours)"
   ]
  },
  {
   "cell_type": "code",
   "execution_count": 94,
   "metadata": {},
   "outputs": [],
   "source": [
    "%matplotlib inline\n",
    "import matplotlib.pyplot as plt\n",
    "import seaborn; seaborn.set() # styling"
   ]
  },
  {
   "cell_type": "markdown",
   "metadata": {},
   "source": [
    "Necesitamos unas muestras para el ejemplo:"
   ]
  },
  {
   "cell_type": "code",
   "execution_count": 95,
   "metadata": {},
   "outputs": [
    {
     "data": {
      "image/png": "[encoded data removed]",
      "text/plain": [
       "<Figure size 432x288 with 1 Axes>"
      ]
     },
     "metadata": {},
     "output_type": "display_data"
    }
   ],
   "source": [
    "# Generamos 15 muestras aleatorias de puntos en 2D\n",
    "np.random.seed(42)\n",
    "data = np.random.rand(15, 2)\n",
    "\n",
    "# Los pintamos\n",
    "plt.scatter(data[:, 0], data[:, 1], s=100);"
   ]
  },
  {
   "cell_type": "markdown",
   "metadata": {},
   "source": [
    "Calcularemos la distancia cuadrática de cada par de puntos como la suma de los cuadrados de las distancias.\n",
    "Primero calculamos para cada par de puntos la diferencia entre sus coordenadas. Usamos broadcasting!"
   ]
  },
  {
   "cell_type": "code",
   "execution_count": 96,
   "metadata": {},
   "outputs": [
    {
     "data": {
      "text/plain": [
       "(15, 15, 2)"
      ]
     },
     "execution_count": 96,
     "metadata": {},
     "output_type": "execute_result"
    }
   ],
   "source": [
    "differences = (data[:, np.newaxis, :] - data[np.newaxis, :, :]) # (15, 1, 2) - (1, 15, 2)\n",
    "\n",
    "# Comprobamos la pinta del array\n",
    "differences.shape"
   ]
  },
  {
   "cell_type": "code",
   "execution_count": 97,
   "metadata": {},
   "outputs": [
    {
     "data": {
      "text/plain": [
       "array([0., 0., 0., 0., 0., 0., 0., 0., 0., 0., 0., 0., 0., 0., 0.])"
      ]
     },
     "execution_count": 97,
     "metadata": {},
     "output_type": "execute_result"
    }
   ],
   "source": [
    "square_dist = np.sum(differences ** 2, axis=-1) # sobre el último eje\n",
    "\n",
    "# Comprobamos la diagonal!\n",
    "square_dist.diagonal()"
   ]
  },
  {
   "cell_type": "markdown",
   "metadata": {},
   "source": [
    "Obtenemos los 2 vecinos más cercanos usando `argpartition`, y representamos todas estas relaciones:"
   ]
  },
  {
   "cell_type": "code",
   "execution_count": 98,
   "metadata": {},
   "outputs": [
    {
     "data": {
      "image/png": "[encoded data removed]",
      "text/plain": [
       "<Figure size 432x288 with 1 Axes>"
      ]
     },
     "metadata": {},
     "output_type": "display_data"
    }
   ],
   "source": [
    "k = 2 # Queremos 2 vecinos, así que necesitaremos 3 puntos (el primero es uno mismo!)\n",
    "nearest_partition = np.argpartition(square_dist, k+1, axis=1)\n",
    "\n",
    "# Dibujamos los puntos y las líneas que unen cada punto con sus k vecinos más cercanos\n",
    "plt.scatter(data[:, 0], data[:, 1], s=100)\n",
    "\n",
    "for i in range(data.shape[0]):\n",
    "    for j in nearest_partition[i, :k+1]:\n",
    "        plt.plot(*zip(data[j], data[i]), color='black')"
   ]
  },
  {
   "cell_type": "markdown",
   "metadata": {},
   "source": [
    "## Arrays estructurados\n",
    "\n",
    "NumPy soporta también arrays para datasets heterogéneos, aunque para ese tipo de datos es recomendable usar los **Dataframes** de **pandas** :)"
   ]
  }
 ],
 "metadata": {
  "kernelspec": {
   "display_name": "Python 3",
   "language": "python",
   "name": "python3"
  },
  "language_info": {
   "codemirror_mode": {
    "name": "ipython",
    "version": 3
   },
   "file_extension": ".py",
   "mimetype": "text/x-python",
   "name": "python",
   "nbconvert_exporter": "python",
   "pygments_lexer": "ipython3",
   "version": "3.7.5"
  },
  "toc": {
   "base_numbering": "0",
   "nav_menu": {},
   "number_sections": true,
   "sideBar": true,
   "skip_h1_title": false,
   "title_cell": "Mis notas: NumPy",
   "title_sidebar": "Contents",
   "toc_cell": true,
   "toc_position": {
    "height": "calc(100% - 180px)",
    "left": "10px",
    "top": "150px",
    "width": "316.4px"
   },
   "toc_section_display": true,
   "toc_window_display": true
  }
 },
 "nbformat": 4,
 "nbformat_minor": 2
}
